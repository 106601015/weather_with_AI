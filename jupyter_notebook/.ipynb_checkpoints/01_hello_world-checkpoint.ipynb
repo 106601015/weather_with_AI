{
 "cells": [
  {
   "cell_type": "code",
   "execution_count": null,
   "metadata": {},
   "outputs": [],
   "source": [
    "print(':)')"
   ]
  }
 ],
 "metadata": {
  "kernelspec": {
   "display_name": "Python 3.6.10 64-bit ('tensorflow': conda)",
   "language": "python",
   "name": "python361064bittensorflowcondab864110579804753b239bdb90d6d456f"
  },
  "language_info": {
   "name": ""
  }
 },
 "nbformat": 4,
 "nbformat_minor": 4
}
